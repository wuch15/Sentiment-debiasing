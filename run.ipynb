{
 "cells": [
  {
   "cell_type": "code",
   "execution_count": null,
   "metadata": {},
   "outputs": [],
   "source": [
    "from preprocess import *\n",
    "from utils import *\n",
    "from datagen import *\n",
    "from model import *\n",
    "from model import *"
   ]
  },
  {
   "cell_type": "code",
   "execution_count": null,
   "metadata": {},
   "outputs": [],
   "source": [
    "news_index, news_title, word_dict, news_senti, news_senti_cate = process_news(['train','valid'])\n",
    "train_candidate,train_user_his,train_label = process_users('train',news_index,True)\n",
    "test_candidate,test_user_his,test_label,test_index = process_users('valid',news_index,False)\n",
    "emb_table = embedding('glove.840B.300d.txt',word_dict)"
   ]
  },
  {
   "cell_type": "code",
   "execution_count": null,
   "metadata": {},
   "outputs": [],
   "source": [
    "model_vec, gan, senti_pred, user_model, news_encoder = senti_model(word_dict, emb_table)"
   ]
  },
  {
   "cell_type": "code",
   "execution_count": null,
   "metadata": {},
   "outputs": [],
   "source": [
    "max_steps=50000\n",
    "for ep in range(1):\n",
    "    train_gen = generate_batch_data_train(news_title,news_senti_cate,train_candidate,train_user_his,train_label,30)\n",
    "    iterations=max_steps\n",
    "    d_loss=0.\n",
    "    a_loss=0.\n",
    "    for step,data in enumerate(train_gen):\n",
    "        disvec1,disvec2=model_vec.predict([data[0][0],data[0][1]])\n",
    "        senti_pred.trainable = True\n",
    "        d_loss =senti_pred.train_on_batch([disvec1,disvec2],[to_categorical(data[1][2][:,:,0],5),to_categorical(data[1][3][:,:,0],5)],[data[2][2],data[2][3]])\n",
    "        senti_pred.trainable = False\n",
    "        a_loss =gan.train_on_batch(data[0],[data[1][0],data[1][1],to_categorical(data[1][2][:,:,0],5),to_categorical(data[1][3][:,:,0],5)],data[2])\n",
    "        step+=1\n",
    "        d_loss+=np.array(d_loss)\n",
    "        a_loss+=np.array(a_loss)\n",
    "\n",
    "        if step%100==0:\n",
    "            print(step,d_loss/step,a_loss/step)\n",
    "            \n",
    "        if step==iterations:\n",
    "            break\n",
    "            \n",
    "        if step%10000==0:\n",
    "            usermodel = Model([news_input], userrep)\n",
    "            test_gen=generate_batch_data_user(news_title, test_user_his, 100) \n",
    "            user_vec=user_model.predict_generator(test_gen,steps=len(test_user_his)//100+1,verbose=1)\n",
    "            news_vec=news_encoder.predict([news_title],batch_size=200,verbose=1)\n",
    "\n",
    "            for i in range(len(test_index)):\n",
    "                newscand=news_vec[test_candidate[test_index[i][0]:test_index[i][1]]]\n",
    "                uvector=user_vec[i]\n",
    "                scores=1/(1+np.exp(-np.tensordot(uvector,newscand,axes=(0,1))))\n",
    "                m=test_index[i]\n",
    "                if m[1]-m[0]>1:\n",
    "                    all_auc.append(auc(test_label[m[0]:m[1]],scores))\n",
    "                    all_mrr.append(mrr_score(test_label[m[0]:m[1]],scores))\n",
    "                    all_ndcg.append(ndcg_score(test_label[m[0]:m[1]],scores,k=5))\n",
    "                    all_ndcg_2.append(ndcg_score(test_label[m[0]:m[1]],scores,k=10))\n",
    "                    if len(all_auc)%10000==0:\n",
    "                        print(len(all_auc)) \n",
    "                        \n",
    "            print(np.mean(all_auc),np.mean(all_mrr),np.mean(all_ndcg),np.mean(all_ndcg_2))\n",
    "            \n",
    "            senti_top=[]\n",
    "            for i in range(len(test_index)):\n",
    "                newscand=news_vec[test_candidate[test_index[i][0]:test_index[i][1]]]\n",
    "                uvector=user_vec[i]\n",
    "                scores=1/(1+np.exp(-np.tensordot(uvector,newscand,axes=(0,1))))\n",
    "                ranks=np.argsort(1-scores)\n",
    "            \n",
    "                senti_top.append([np.mean(news_senti[test_candidate[test_index[i][0]:test_index[i][1]][ranks[:x]]]) for x in range(1,100)])\n",
    "                if i%10000==0:\n",
    "                    print(i)\n",
    "                    print(np.mean(senti_top,axis=0))"
   ]
  }
 ],
 "metadata": {
  "kernelspec": {
   "display_name": "Python 3",
   "language": "python",
   "name": "python3"
  },
  "language_info": {
   "codemirror_mode": {
    "name": "ipython",
    "version": 3
   },
   "file_extension": ".py",
   "mimetype": "text/x-python",
   "name": "python",
   "nbconvert_exporter": "python",
   "pygments_lexer": "ipython3",
   "version": "3.6.9"
  }
 },
 "nbformat": 4,
 "nbformat_minor": 2
}
